{
  "nbformat": 4,
  "nbformat_minor": 0,
  "metadata": {
    "colab": {
      "provenance": [],
      "authorship_tag": "ABX9TyNvrJLIcJ42Bqv01uzAQA5l",
      "include_colab_link": true
    },
    "kernelspec": {
      "name": "python3",
      "display_name": "Python 3"
    },
    "language_info": {
      "name": "python"
    }
  },
  "cells": [
    {
      "cell_type": "markdown",
      "metadata": {
        "id": "view-in-github",
        "colab_type": "text"
      },
      "source": [
        "<a href=\"https://colab.research.google.com/github/chaihermes/banco_de_dados/blob/main/SQL.ipynb\" target=\"_parent\"><img src=\"https://colab.research.google.com/assets/colab-badge.svg\" alt=\"Open In Colab\"/></a>"
      ]
    },
    {
      "cell_type": "code",
      "execution_count": null,
      "metadata": {
        "id": "b6fi-7EnZUVz"
      },
      "outputs": [],
      "source": [
        "SELECT\n",
        "    c.id_cliente,\n",
        "    c.razao_social,\n",
        "    t.tipo_telefone,\n",
        "    t.numero_telefone\n",
        "FROM\n",
        "    Clientes c\n",
        "INNER JOIN Telefones t ON c.id_cliente = t.id_cliente\n",
        "WHERE\n",
        "    c.estado = 'SP';"
      ]
    }
  ]
}